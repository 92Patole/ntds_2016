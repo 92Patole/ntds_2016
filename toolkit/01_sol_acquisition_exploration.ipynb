{
 "cells": [
  {
   "cell_type": "markdown",
   "metadata": {},
   "source": [
    "# A Python Tour of Data Science: Data Acquisition & Exploration     \n",
    "\n",
    "[Michaël Defferrard](http://deff.ch), *PhD student*, [EPFL](http://epfl.ch) [LTS2](http://lts2.epfl.ch)"
   ]
  },
  {
   "cell_type": "markdown",
   "metadata": {},
   "source": [
    "# 1 Exercise: problem definition\n",
    "\n",
    "Theme of the exercise: **understand the impact of your communication on social networks**. A real life situation: the marketing team needs help in identifying which were the most engaging posts they made on social platforms to prepare their next [AdWords](https://www.google.com/adwords/) campaign.\n",
    "\n",
    "As you probably don't have a company (yet?), you can either use your own social network profile as if it were the company's one or choose an established entity, e.g. EPFL. You will need to be registered in FB or Twitter to generate access tokens. If you're not, either ask a classmate to create a token for you or create a fake / temporary account for yourself (no need to follow other people, we can fetch public data).\n",
    "\n",
    "At the end of the exercise, you should have two datasets (Facebook & Twitter) and have used them to answer the following questions, for both Facebook and Twitter.\n",
    "1. How many followers / friends / likes has your chosen profile ?\n",
    "2. How many posts / tweets in the last year ?\n",
    "3. What were the 5 most liked posts / tweets ?\n",
    "4. Plot histograms of number of likes and comments / retweets.\n",
    "5. Plot basic statistics and an histogram of text lenght.\n",
    "6. Is there any correlation between the lenght of the text and the number of likes ?\n",
    "7. Be curious and explore your data. Did you find something interesting or surprising ?\n",
    "    1. Create at least one interactive plot (with bokeh) to explore an intuition (e.g. does the posting time plays a role)."
   ]
  },
  {
   "cell_type": "markdown",
   "metadata": {},
   "source": [
    "# 2 Ressources\n",
    "\n",
    "Here are some links you may find useful to complete that exercise.\n",
    "\n",
    "Web APIs: these are the references.\n",
    "* [Facebook Graph API](https://developers.facebook.com/docs/graph-api)\n",
    "* [Twitter REST API](https://dev.twitter.com/rest/public)\n",
    "\n",
    "Tutorials:\n",
    "* [Mining the Social Web](https://github.com/ptwobrussell/Mining-the-Social-Web-2nd-Edition)\n",
    "* [Mining Twitter data with Python](https://marcobonzanini.com/2015/03/02/mining-twitter-data-with-python-part-1/)\n",
    "* [Simple Python Facebook Scraper](http://simplebeautifuldata.com/2014/08/25/simple-python-facebook-scraper-part-1/)"
   ]
  },
  {
   "cell_type": "markdown",
   "metadata": {},
   "source": [
    "# 3 Web scraping\n",
    "\n",
    "Tasks:\n",
    "1. Download the relevant information from Facebook and Twitter. Try to minimize the quantity of collected data to the minimum required to answer the questions.\n",
    "2. Build two SQLite databases, one for Facebook and the other for Twitter, using [pandas](http://pandas.pydata.org/) and [SQLAlchemy](http://www.sqlalchemy.org/).\n",
    "    1. For FB, each row is a post, and the columns are at least (you can include more if you want): the post id, the message (i.e. the text), the time when it was posted, the number of likes and the number of comments.\n",
    "    2. For Twitter, each row is a tweet, and the columns are at least: the tweet id, the text, the creation time, the number of likes (was called favorite before) and the number of retweets.\n",
    "\n",
    "Note that some data cleaning is already necessary. E.g. there are some FB posts without *message*, i.e. without text. Some tweets are also just retweets without any more information. Should they be collected ?"
   ]
  },
  {
   "cell_type": "code",
   "execution_count": 1,
   "metadata": {
    "collapsed": true
   },
   "outputs": [],
   "source": [
    "# Number of posts / tweets to retrieve.\n",
    "# Small value for development, then increase to collect final data.\n",
    "n = 4000  # 20"
   ]
  },
  {
   "cell_type": "markdown",
   "metadata": {},
   "source": [
    "## 3.1 Facebook\n",
    "\n",
    "There is two ways to scrape data from Facebook, you can choose one or combine them.\n",
    "1. The low-level approach, sending HTTP requests and receiving JSON responses to / from their Graph API. That can be achieved with the json and [requests](python-requests.org) packages (altough you can use urllib or urllib2, requests has a better API). The knowledge you'll acquire using that method will be useful to query other web APIs than FB. This method is also more flexible.\n",
    "2. The high-level approach, using a [Python SDK](http://facebook-sdk.readthedocs.io). The code you'll have to write for this method is gonna be shorter, but specific to the FB Graph API.\n",
    "\n",
    "You will need an access token, which can be created with the help of the [Graph Explorer](https://developers.facebook.com/tools/explorer). That tool may prove useful to test queries. Once you have your token, you may create a `credentials.ini` file with the following content:\n",
    "```\n",
    "[facebook]\n",
    "token = YOUR-FB-ACCESS-TOKEN\n",
    "```"
   ]
  },
  {
   "cell_type": "code",
   "execution_count": 2,
   "metadata": {
    "collapsed": false
   },
   "outputs": [],
   "source": [
    "import configparser\n",
    "\n",
    "# Read the confidential token.\n",
    "credentials = configparser.ConfigParser()\n",
    "credentials.read('credentials.ini')\n",
    "token = credentials.get('facebook', 'token')\n",
    "\n",
    "# Or token = 'YOUR-FB-ACCESS-TOKEN'"
   ]
  },
  {
   "cell_type": "code",
   "execution_count": 3,
   "metadata": {
    "collapsed": true
   },
   "outputs": [],
   "source": [
    "import requests  # pip install requests\n",
    "import facebook  # pip install facebook-sdk\n",
    "import pandas as pd"
   ]
  },
  {
   "cell_type": "code",
   "execution_count": 4,
   "metadata": {
    "collapsed": false
   },
   "outputs": [],
   "source": [
    "page = 'EPFL.ch'"
   ]
  },
  {
   "cell_type": "markdown",
   "metadata": {},
   "source": [
    "### 3.1.1 Scrap with HTTP requests"
   ]
  },
  {
   "cell_type": "markdown",
   "metadata": {},
   "source": [
    "#### 3.1.1.1 Get the number of likes\n",
    "\n",
    "The process is three-way:\n",
    "1. Assemble an URL to query. The documentation of the FB Graph API is useful there. You can click on the URL to let your browser make the query and return the result.\n",
    "2. Send an HTTP GET request, receive the results and interpret it as JSON (because Facebook sends data in JSON).\n",
    "3. Explore the received data and extract what interests us, here the number of likes. If we don't get what we want (or if we get too much), we can modify the query url. Note that the hierarchical JSON format is exposed as a dictionary."
   ]
  },
  {
   "cell_type": "code",
   "execution_count": 5,
   "metadata": {
    "collapsed": false
   },
   "outputs": [
    {
     "name": "stdout",
     "output_type": "stream",
     "text": [
      "data: {'likes': 62190, 'id': '107201356009441'}\n",
      "EPFL.ch has 62190 likes\n"
     ]
    }
   ],
   "source": [
    "# 1. Form URL.\n",
    "url = 'https://graph.facebook.com/{}?fields=likes&access_token={}'.format(page, token)\n",
    "#print(url)\n",
    "\n",
    "# 2. Get data.\n",
    "data = requests.get(url).json()\n",
    "print('data:', data)\n",
    "\n",
    "# Optionally, check for errors. Most probably the session has expired.\n",
    "if 'error' in data.keys():\n",
    "    raise Exception(data)\n",
    "\n",
    "# 3. Extract data.\n",
    "print('{} has {} likes'.format(page, data['likes']))"
   ]
  },
  {
   "cell_type": "markdown",
   "metadata": {},
   "source": [
    "#### 3.1.1.2 Get posts\n",
    "\n",
    "The process is similar here, except that the query and extraction are more complicated (because we work with more data). As you may have found out, FB returns at most 100 posts at a time. To get more posts, they provide *paging*, which we use to requests the next posts."
   ]
  },
  {
   "cell_type": "code",
   "execution_count": 6,
   "metadata": {
    "collapsed": false
   },
   "outputs": [],
   "source": [
    "# 1. Form URL. You can click that url and see the returned JSON in your browser.\n",
    "fields = 'id,created_time,message,likes.limit(0).summary(1),comments.limit(0).summary(1)'\n",
    "url = 'https://graph.facebook.com/{}/posts?fields={}&access_token={}'.format(page, fields, token)\n",
    "#print(url)\n",
    "\n",
    "# Create the pandas DataFrame, a table which columns are post id, message, created time, #likes and #comments.\n",
    "fb = pd.DataFrame(columns=['id', 'text', 'time', 'likes', 'comments'])\n",
    "\n",
    "# The outer loop is to query FB multiple times, as FB sends at most 100 posts at a time.\n",
    "while len(fb) < n:\n",
    "    \n",
    "    # 2. Get the data from FB. At most 100 posts.\n",
    "    posts = requests.get(url).json()\n",
    "\n",
    "    # 3. Here we extract information for each of the received post.\n",
    "    for post in posts['data']:\n",
    "        # The information is stored in a dictionary.\n",
    "        serie = dict(id=post['id'], time=post['created_time'])\n",
    "        try:\n",
    "            serie['text'] = post['message']\n",
    "        except KeyError:\n",
    "            # Let's say we are not interested in posts without text.\n",
    "            continue\n",
    "        serie['likes'] = post['likes']['summary']['total_count']\n",
    "        serie['comments'] = post['comments']['summary']['total_count']\n",
    "        # Add the dictionary as a new line to our pandas DataFrame.\n",
    "        fb = fb.append(serie, ignore_index=True)\n",
    "    \n",
    "    try:\n",
    "        # That URL is returned by FB to access the next 'page', i.e. the next 100 posts.\n",
    "        url = posts['paging']['next']\n",
    "    except KeyError:\n",
    "        # No more posts.\n",
    "        break"
   ]
  },
  {
   "cell_type": "code",
   "execution_count": 7,
   "metadata": {
    "collapsed": false
   },
   "outputs": [
    {
     "data": {
      "text/html": [
       "<div>\n",
       "<table border=\"1\" class=\"dataframe\">\n",
       "  <thead>\n",
       "    <tr style=\"text-align: right;\">\n",
       "      <th></th>\n",
       "      <th>id</th>\n",
       "      <th>text</th>\n",
       "      <th>time</th>\n",
       "      <th>likes</th>\n",
       "      <th>comments</th>\n",
       "    </tr>\n",
       "  </thead>\n",
       "  <tbody>\n",
       "    <tr>\n",
       "      <th>0</th>\n",
       "      <td>107201356009441_1346592535403644</td>\n",
       "      <td>Two architecture student turn downtown Lausann...</td>\n",
       "      <td>2016-10-21T17:00:01+0000</td>\n",
       "      <td>122.0</td>\n",
       "      <td>1.0</td>\n",
       "    </tr>\n",
       "    <tr>\n",
       "      <th>1</th>\n",
       "      <td>107201356009441_1346583242071240</td>\n",
       "      <td>Adding a single chemical when making biofuels ...</td>\n",
       "      <td>2016-10-21T13:20:04+0000</td>\n",
       "      <td>39.0</td>\n",
       "      <td>0.0</td>\n",
       "    </tr>\n",
       "    <tr>\n",
       "      <th>2</th>\n",
       "      <td>107201356009441_1345683875494510</td>\n",
       "      <td>Une très belle lumière ce soir sur le campus!</td>\n",
       "      <td>2016-10-20T17:07:48+0000</td>\n",
       "      <td>523.0</td>\n",
       "      <td>6.0</td>\n",
       "    </tr>\n",
       "    <tr>\n",
       "      <th>3</th>\n",
       "      <td>107201356009441_1345641658832065</td>\n",
       "      <td>New online programs offered by the EPFL Extens...</td>\n",
       "      <td>2016-10-20T16:26:03+0000</td>\n",
       "      <td>79.0</td>\n",
       "      <td>2.0</td>\n",
       "    </tr>\n",
       "    <tr>\n",
       "      <th>4</th>\n",
       "      <td>107201356009441_1345339838862247</td>\n",
       "      <td>Voici quelques unes des photos postées pour le...</td>\n",
       "      <td>2016-10-20T13:40:11+0000</td>\n",
       "      <td>81.0</td>\n",
       "      <td>1.0</td>\n",
       "    </tr>\n",
       "  </tbody>\n",
       "</table>\n",
       "</div>"
      ],
      "text/plain": [
       "                                 id  \\\n",
       "0  107201356009441_1346592535403644   \n",
       "1  107201356009441_1346583242071240   \n",
       "2  107201356009441_1345683875494510   \n",
       "3  107201356009441_1345641658832065   \n",
       "4  107201356009441_1345339838862247   \n",
       "\n",
       "                                                text  \\\n",
       "0  Two architecture student turn downtown Lausann...   \n",
       "1  Adding a single chemical when making biofuels ...   \n",
       "2      Une très belle lumière ce soir sur le campus!   \n",
       "3  New online programs offered by the EPFL Extens...   \n",
       "4  Voici quelques unes des photos postées pour le...   \n",
       "\n",
       "                       time  likes  comments  \n",
       "0  2016-10-21T17:00:01+0000  122.0       1.0  \n",
       "1  2016-10-21T13:20:04+0000   39.0       0.0  \n",
       "2  2016-10-20T17:07:48+0000  523.0       6.0  \n",
       "3  2016-10-20T16:26:03+0000   79.0       2.0  \n",
       "4  2016-10-20T13:40:11+0000   81.0       1.0  "
      ]
     },
     "execution_count": 7,
     "metadata": {},
     "output_type": "execute_result"
    }
   ],
   "source": [
    "fb[:5]"
   ]
  },
  {
   "cell_type": "markdown",
   "metadata": {},
   "source": [
    "### 3.1.2 Scrap with Facebook SDK\n",
    "\n",
    "That method is much slower because it should retrieve the comments and likes, not only their number, for each post. The API is not expressive enough to do otherwise."
   ]
  },
  {
   "cell_type": "code",
   "execution_count": 8,
   "metadata": {
    "collapsed": false
   },
   "outputs": [
    {
     "name": "stdout",
     "output_type": "stream",
     "text": [
      "   122      1 2016-10-21T17:00:01+0000 Two architecture student turn downtown Lausanne in\n",
      "    39      0 2016-10-21T13:20:04+0000 Adding a single chemical when making biofuels can \n",
      "   523      6 2016-10-20T17:07:48+0000 Une très belle lumière ce soir sur le campus!\n",
      "    79      2 2016-10-20T16:26:03+0000 New online programs offered by the EPFL Extension \n",
      "    81      1 2016-10-20T13:40:11+0000 Voici quelques unes des photos postées pour le con\n",
      "   296     18 2016-10-19T14:06:51+0000 Just like Eva, our young astronaut, come and disco\n",
      "   106      3 2016-10-19T07:52:12+0000 Le projet du Students Center, futur lieu qui sera \n",
      "   132      7 2016-10-18T14:57:00+0000 On October 17 2016, The President of the Portugues\n",
      "    81      3 2016-10-18T11:51:48+0000 This 3D interactive \"galaxy\" designed by an EPFL P\n",
      "   148      1 2016-10-17T07:31:18+0000 Bacteria could prevent radioactive leaks in underg\n"
     ]
    }
   ],
   "source": [
    "g = facebook.GraphAPI(token, version='2.7')\n",
    "\n",
    "# We limit to 10 because it's slow.\n",
    "posts = g.get_connections(page, 'posts', limit=10)\n",
    "\n",
    "if 'error' in posts.keys():\n",
    "    # Most probably the session has expired.\n",
    "    raise Exception(data)\n",
    "\n",
    "for post in posts['data']:\n",
    "    pid = post['id']\n",
    "    try:\n",
    "        text = post['message']\n",
    "    except KeyError:\n",
    "        continue\n",
    "    time = post['created_time']\n",
    "    likes = g.get_connections(pid, 'likes', summary=True, limit=0)\n",
    "    nlikes = likes['summary']['total_count']\n",
    "    comments = g.get_connections(pid, 'comments', summary=True, limit=0)\n",
    "    ncomments = comments['summary']['total_count']\n",
    "    print('{:6d} {:6d} {} {}'.format(nlikes, ncomments, time, text[:50]))"
   ]
  },
  {
   "cell_type": "markdown",
   "metadata": {},
   "source": [
    "## 3.2 Twitter\n",
    "\n",
    "There exists a bunch of [Python-based clients](https://dev.twitter.com/overview/api/twitter-libraries#python) for Twitter. [Tweepy](http://tweepy.readthedocs.io) is a popular choice.\n",
    "\n",
    "You will need to create a [Twitter app](https://apps.twitter.com/) and copy the four tokens and secrets in the `credentials.ini` file:\n",
    "```\n",
    "[twitter]\n",
    "consumer_key = YOUR-CONSUMER-KEY\n",
    "consumer_secret = YOUR-CONSUMER-SECRET\n",
    "access_token = YOUR-ACCESS-TOKEN\n",
    "access_secret = YOUR-ACCESS-SECRET\n",
    "```"
   ]
  },
  {
   "cell_type": "code",
   "execution_count": 9,
   "metadata": {
    "collapsed": false
   },
   "outputs": [],
   "source": [
    "import tweepy  # pip install tweepy\n",
    "\n",
    "auth = tweepy.OAuthHandler(credentials.get('twitter', 'consumer_key'), credentials.get('twitter', 'consumer_secret'))\n",
    "auth.set_access_token(credentials.get('twitter', 'access_token'), credentials.get('twitter', 'access_secret'))\n",
    "api = tweepy.API(auth)\n",
    "\n",
    "user = 'EPFL_en'"
   ]
  },
  {
   "cell_type": "code",
   "execution_count": 10,
   "metadata": {
    "collapsed": false
   },
   "outputs": [
    {
     "name": "stdout",
     "output_type": "stream",
     "text": [
      "EPFL_en has 17978 followers\n"
     ]
    }
   ],
   "source": [
    "followers = api.get_user(user).followers_count\n",
    "print('{} has {} followers'.format(user, followers))"
   ]
  },
  {
   "cell_type": "markdown",
   "metadata": {},
   "source": [
    "The code is much simpler for Twitter than Facebook because Tweepy handles much of the dirty work, like paging."
   ]
  },
  {
   "cell_type": "code",
   "execution_count": 11,
   "metadata": {
    "collapsed": false
   },
   "outputs": [],
   "source": [
    "tw = pd.DataFrame(columns=['id', 'text', 'time', 'likes', 'shares'])\n",
    "for tweet in tweepy.Cursor(api.user_timeline, screen_name=user).items(n):\n",
    "    serie = dict(id=tweet.id, text=tweet.text, time=tweet.created_at)\n",
    "    serie.update(dict(likes=tweet.favorite_count, shares=tweet.retweet_count))\n",
    "    tw = tw.append(serie, ignore_index=True)"
   ]
  },
  {
   "cell_type": "markdown",
   "metadata": {},
   "source": [
    "# 4 Prepare and save data\n",
    "\n",
    "To facilitate our analysis, we first prepare the data.\n",
    "1. Convert floating point numbers to integers.\n",
    "1. Convert Facebook post time from string to datetime.\n",
    "\n",
    "That is not necessary, but it'll allow to e.g. compare posting dates with standard comparison operators like `>` and `<`."
   ]
  },
  {
   "cell_type": "code",
   "execution_count": 12,
   "metadata": {
    "collapsed": false
   },
   "outputs": [],
   "source": [
    "#fb.id = fb.id.astype(int)\n",
    "fb.likes = fb.likes.astype(int)\n",
    "fb.comments = fb.comments.astype(int)\n",
    "\n",
    "tw.id = tw.id.astype(int)\n",
    "tw.likes = tw.likes.astype(int)\n",
    "tw.shares = tw.shares.astype(int)"
   ]
  },
  {
   "cell_type": "code",
   "execution_count": 13,
   "metadata": {
    "collapsed": false
   },
   "outputs": [],
   "source": [
    "from datetime import datetime\n",
    "\n",
    "def convert_time(row):\n",
    "    return datetime.strptime(row['time'], '%Y-%m-%dT%H:%M:%S+0000')\n",
    "\n",
    "fb['time'] = fb.apply(convert_time, axis=1)"
   ]
  },
  {
   "cell_type": "code",
   "execution_count": 14,
   "metadata": {
    "collapsed": false
   },
   "outputs": [
    {
     "data": {
      "text/html": [
       "<div>\n",
       "<table border=\"1\" class=\"dataframe\">\n",
       "  <thead>\n",
       "    <tr style=\"text-align: right;\">\n",
       "      <th></th>\n",
       "      <th>id</th>\n",
       "      <th>text</th>\n",
       "      <th>time</th>\n",
       "      <th>likes</th>\n",
       "      <th>comments</th>\n",
       "    </tr>\n",
       "  </thead>\n",
       "  <tbody>\n",
       "    <tr>\n",
       "      <th>0</th>\n",
       "      <td>107201356009441_1346592535403644</td>\n",
       "      <td>Two architecture student turn downtown Lausann...</td>\n",
       "      <td>2016-10-21 17:00:01</td>\n",
       "      <td>122</td>\n",
       "      <td>1</td>\n",
       "    </tr>\n",
       "    <tr>\n",
       "      <th>1</th>\n",
       "      <td>107201356009441_1346583242071240</td>\n",
       "      <td>Adding a single chemical when making biofuels ...</td>\n",
       "      <td>2016-10-21 13:20:04</td>\n",
       "      <td>39</td>\n",
       "      <td>0</td>\n",
       "    </tr>\n",
       "    <tr>\n",
       "      <th>2</th>\n",
       "      <td>107201356009441_1345683875494510</td>\n",
       "      <td>Une très belle lumière ce soir sur le campus!</td>\n",
       "      <td>2016-10-20 17:07:48</td>\n",
       "      <td>523</td>\n",
       "      <td>6</td>\n",
       "    </tr>\n",
       "    <tr>\n",
       "      <th>3</th>\n",
       "      <td>107201356009441_1345641658832065</td>\n",
       "      <td>New online programs offered by the EPFL Extens...</td>\n",
       "      <td>2016-10-20 16:26:03</td>\n",
       "      <td>79</td>\n",
       "      <td>2</td>\n",
       "    </tr>\n",
       "    <tr>\n",
       "      <th>4</th>\n",
       "      <td>107201356009441_1345339838862247</td>\n",
       "      <td>Voici quelques unes des photos postées pour le...</td>\n",
       "      <td>2016-10-20 13:40:11</td>\n",
       "      <td>81</td>\n",
       "      <td>1</td>\n",
       "    </tr>\n",
       "  </tbody>\n",
       "</table>\n",
       "</div>"
      ],
      "text/plain": [
       "                                 id  \\\n",
       "0  107201356009441_1346592535403644   \n",
       "1  107201356009441_1346583242071240   \n",
       "2  107201356009441_1345683875494510   \n",
       "3  107201356009441_1345641658832065   \n",
       "4  107201356009441_1345339838862247   \n",
       "\n",
       "                                                text                time  \\\n",
       "0  Two architecture student turn downtown Lausann... 2016-10-21 17:00:01   \n",
       "1  Adding a single chemical when making biofuels ... 2016-10-21 13:20:04   \n",
       "2      Une très belle lumière ce soir sur le campus! 2016-10-20 17:07:48   \n",
       "3  New online programs offered by the EPFL Extens... 2016-10-20 16:26:03   \n",
       "4  Voici quelques unes des photos postées pour le... 2016-10-20 13:40:11   \n",
       "\n",
       "   likes  comments  \n",
       "0    122         1  \n",
       "1     39         0  \n",
       "2    523         6  \n",
       "3     79         2  \n",
       "4     81         1  "
      ]
     },
     "metadata": {},
     "output_type": "display_data"
    },
    {
     "data": {
      "text/html": [
       "<div>\n",
       "<table border=\"1\" class=\"dataframe\">\n",
       "  <thead>\n",
       "    <tr style=\"text-align: right;\">\n",
       "      <th></th>\n",
       "      <th>id</th>\n",
       "      <th>text</th>\n",
       "      <th>time</th>\n",
       "      <th>likes</th>\n",
       "      <th>shares</th>\n",
       "    </tr>\n",
       "  </thead>\n",
       "  <tbody>\n",
       "    <tr>\n",
       "      <th>0</th>\n",
       "      <td>789509789755830272</td>\n",
       "      <td>Architecture students design a car-free Lausan...</td>\n",
       "      <td>2016-10-21 16:52:56</td>\n",
       "      <td>5</td>\n",
       "      <td>3</td>\n",
       "    </tr>\n",
       "    <tr>\n",
       "      <th>1</th>\n",
       "      <td>789500337619083264</td>\n",
       "      <td>A vitamin could help treat Duchenne muscular d...</td>\n",
       "      <td>2016-10-21 16:15:23</td>\n",
       "      <td>0</td>\n",
       "      <td>1</td>\n",
       "    </tr>\n",
       "    <tr>\n",
       "      <th>2</th>\n",
       "      <td>789492707790028800</td>\n",
       "      <td>RT @epfl_exts: Thanks to @EPFL president Patri...</td>\n",
       "      <td>2016-10-21 15:45:04</td>\n",
       "      <td>0</td>\n",
       "      <td>5</td>\n",
       "    </tr>\n",
       "    <tr>\n",
       "      <th>3</th>\n",
       "      <td>789471927735840768</td>\n",
       "      <td>A single chemical can transform a waste produc...</td>\n",
       "      <td>2016-10-21 14:22:29</td>\n",
       "      <td>4</td>\n",
       "      <td>5</td>\n",
       "    </tr>\n",
       "    <tr>\n",
       "      <th>4</th>\n",
       "      <td>789470735093956608</td>\n",
       "      <td>RT @physorg_com: Turning biofuel waste into we...</td>\n",
       "      <td>2016-10-21 14:17:45</td>\n",
       "      <td>0</td>\n",
       "      <td>11</td>\n",
       "    </tr>\n",
       "  </tbody>\n",
       "</table>\n",
       "</div>"
      ],
      "text/plain": [
       "                   id                                               text  \\\n",
       "0  789509789755830272  Architecture students design a car-free Lausan...   \n",
       "1  789500337619083264  A vitamin could help treat Duchenne muscular d...   \n",
       "2  789492707790028800  RT @epfl_exts: Thanks to @EPFL president Patri...   \n",
       "3  789471927735840768  A single chemical can transform a waste produc...   \n",
       "4  789470735093956608  RT @physorg_com: Turning biofuel waste into we...   \n",
       "\n",
       "                 time  likes  shares  \n",
       "0 2016-10-21 16:52:56      5       3  \n",
       "1 2016-10-21 16:15:23      0       1  \n",
       "2 2016-10-21 15:45:04      0       5  \n",
       "3 2016-10-21 14:22:29      4       5  \n",
       "4 2016-10-21 14:17:45      0      11  "
      ]
     },
     "metadata": {},
     "output_type": "display_data"
    }
   ],
   "source": [
    "from IPython.display import display\n",
    "display(fb[:5])\n",
    "display(tw[:5])"
   ]
  },
  {
   "cell_type": "markdown",
   "metadata": {},
   "source": [
    "Now that we collected everything, let's save it in two SQLite databases."
   ]
  },
  {
   "cell_type": "code",
   "execution_count": 15,
   "metadata": {
    "collapsed": false
   },
   "outputs": [],
   "source": [
    "import os\n",
    "\n",
    "folder = os.path.join('..', 'data', 'social_media')\n",
    "try:\n",
    "    os.makedirs(folder)\n",
    "except FileExistsError:\n",
    "    pass\n",
    "\n",
    "filename = os.path.join(folder, 'facebook.sqlite')\n",
    "fb.to_sql('facebook', 'sqlite:///' + filename, if_exists='replace')\n",
    "\n",
    "filename = os.path.join(folder, 'twitter.sqlite')\n",
    "tw.to_sql('twitter', 'sqlite:///' + filename, if_exists='replace')"
   ]
  },
  {
   "cell_type": "markdown",
   "metadata": {},
   "source": [
    "# 5 Data analysis\n",
    "\n",
    "Answer the questions using [pandas](http://pandas.pydata.org/), [statsmodels](http://statsmodels.sourceforge.net/), [scipy.stats](http://docs.scipy.org/doc/scipy/reference/stats.html), [bokeh](http://bokeh.pydata.org)."
   ]
  },
  {
   "cell_type": "code",
   "execution_count": 16,
   "metadata": {
    "collapsed": true
   },
   "outputs": [],
   "source": [
    "import numpy as np\n",
    "import matplotlib.pyplot as plt\n",
    "plt.style.use('ggplot')\n",
    "%matplotlib inline"
   ]
  },
  {
   "cell_type": "markdown",
   "metadata": {},
   "source": [
    "## 5.1 Number of posts"
   ]
  },
  {
   "cell_type": "code",
   "execution_count": 17,
   "metadata": {
    "collapsed": false
   },
   "outputs": [
    {
     "name": "stdout",
     "output_type": "stream",
     "text": [
      "Number of posts after 2016-09-04: 58\n",
      "Number of tweets after 2016-09-04: 131\n"
     ]
    }
   ],
   "source": [
    "date = datetime(2016, 9, 4)\n",
    "datestr = date.strftime('%Y-%m-%d')\n",
    "print('Number of posts after {}: {}'.format(datestr, sum(fb.time > date)))\n",
    "print('Number of tweets after {}: {}'.format(datestr, sum(tw.time > date)))"
   ]
  },
  {
   "cell_type": "markdown",
   "metadata": {},
   "source": [
    "## 5.2 Most liked\n",
    "\n",
    "Looks like we're really into rankings !!"
   ]
  },
  {
   "cell_type": "code",
   "execution_count": 18,
   "metadata": {
    "collapsed": false
   },
   "outputs": [
    {
     "data": {
      "text/html": [
       "<div>\n",
       "<table border=\"1\" class=\"dataframe\">\n",
       "  <thead>\n",
       "    <tr style=\"text-align: right;\">\n",
       "      <th></th>\n",
       "      <th>id</th>\n",
       "      <th>text</th>\n",
       "      <th>time</th>\n",
       "      <th>likes</th>\n",
       "      <th>comments</th>\n",
       "    </tr>\n",
       "  </thead>\n",
       "  <tbody>\n",
       "    <tr>\n",
       "      <th>578</th>\n",
       "      <td>107201356009441_525252137537692</td>\n",
       "      <td>L'EPFL est la 13ème université mondiale (et la...</td>\n",
       "      <td>2013-04-23 09:13:51</td>\n",
       "      <td>1608</td>\n",
       "      <td>52</td>\n",
       "    </tr>\n",
       "    <tr>\n",
       "      <th>210</th>\n",
       "      <td>107201356009441_1179534925442740</td>\n",
       "      <td>EPFL tops the \"150 best young universities in ...</td>\n",
       "      <td>2016-04-07 05:45:00</td>\n",
       "      <td>1316</td>\n",
       "      <td>15</td>\n",
       "    </tr>\n",
       "    <tr>\n",
       "      <th>55</th>\n",
       "      <td>107201356009441_1299919223404309</td>\n",
       "      <td>EPFL retains its 14th place in the QS World Un...</td>\n",
       "      <td>2016-09-06 12:52:13</td>\n",
       "      <td>1104</td>\n",
       "      <td>31</td>\n",
       "    </tr>\n",
       "    <tr>\n",
       "      <th>129</th>\n",
       "      <td>107201356009441_1229728187090080</td>\n",
       "      <td>EPFL placed 4th in Reuters' \"Europe's Most Inn...</td>\n",
       "      <td>2016-06-16 10:30:00</td>\n",
       "      <td>1082</td>\n",
       "      <td>16</td>\n",
       "    </tr>\n",
       "    <tr>\n",
       "      <th>178</th>\n",
       "      <td>107201356009441_1203053033090929</td>\n",
       "      <td>Université de Lausanne's sheep ain't no match....</td>\n",
       "      <td>2016-05-09 12:40:20</td>\n",
       "      <td>1046</td>\n",
       "      <td>12</td>\n",
       "    </tr>\n",
       "  </tbody>\n",
       "</table>\n",
       "</div>"
      ],
      "text/plain": [
       "                                   id  \\\n",
       "578   107201356009441_525252137537692   \n",
       "210  107201356009441_1179534925442740   \n",
       "55   107201356009441_1299919223404309   \n",
       "129  107201356009441_1229728187090080   \n",
       "178  107201356009441_1203053033090929   \n",
       "\n",
       "                                                  text                time  \\\n",
       "578  L'EPFL est la 13ème université mondiale (et la... 2013-04-23 09:13:51   \n",
       "210  EPFL tops the \"150 best young universities in ... 2016-04-07 05:45:00   \n",
       "55   EPFL retains its 14th place in the QS World Un... 2016-09-06 12:52:13   \n",
       "129  EPFL placed 4th in Reuters' \"Europe's Most Inn... 2016-06-16 10:30:00   \n",
       "178  Université de Lausanne's sheep ain't no match.... 2016-05-09 12:40:20   \n",
       "\n",
       "     likes  comments  \n",
       "578   1608        52  \n",
       "210   1316        15  \n",
       "55    1104        31  \n",
       "129   1082        16  \n",
       "178   1046        12  "
      ]
     },
     "metadata": {},
     "output_type": "display_data"
    },
    {
     "data": {
      "text/html": [
       "<div>\n",
       "<table border=\"1\" class=\"dataframe\">\n",
       "  <thead>\n",
       "    <tr style=\"text-align: right;\">\n",
       "      <th></th>\n",
       "      <th>id</th>\n",
       "      <th>text</th>\n",
       "      <th>time</th>\n",
       "      <th>likes</th>\n",
       "      <th>shares</th>\n",
       "    </tr>\n",
       "  </thead>\n",
       "  <tbody>\n",
       "    <tr>\n",
       "      <th>1026</th>\n",
       "      <td>572353276261367808</td>\n",
       "      <td>EPFL researchers finally managed to see #light...</td>\n",
       "      <td>2015-03-02 11:10:29</td>\n",
       "      <td>33</td>\n",
       "      <td>45</td>\n",
       "    </tr>\n",
       "    <tr>\n",
       "      <th>473</th>\n",
       "      <td>702448909180870656</td>\n",
       "      <td>Martin Vetterli will be the next president of ...</td>\n",
       "      <td>2016-02-24 11:04:05</td>\n",
       "      <td>29</td>\n",
       "      <td>54</td>\n",
       "    </tr>\n",
       "    <tr>\n",
       "      <th>978</th>\n",
       "      <td>583714121436307456</td>\n",
       "      <td>EPFL just hosted the press conference on the h...</td>\n",
       "      <td>2015-04-02 19:34:26</td>\n",
       "      <td>25</td>\n",
       "      <td>31</td>\n",
       "    </tr>\n",
       "    <tr>\n",
       "      <th>396</th>\n",
       "      <td>715833683022888960</td>\n",
       "      <td>Mini black holes created at EPFL allow dog to ...</td>\n",
       "      <td>2016-04-01 09:30:24</td>\n",
       "      <td>22</td>\n",
       "      <td>21</td>\n",
       "    </tr>\n",
       "    <tr>\n",
       "      <th>432</th>\n",
       "      <td>707559328673357824</td>\n",
       "      <td>EPFL &amp;amp; @ICRC launch the Humanitarian Tech ...</td>\n",
       "      <td>2016-03-09 13:31:04</td>\n",
       "      <td>21</td>\n",
       "      <td>41</td>\n",
       "    </tr>\n",
       "  </tbody>\n",
       "</table>\n",
       "</div>"
      ],
      "text/plain": [
       "                      id                                               text  \\\n",
       "1026  572353276261367808  EPFL researchers finally managed to see #light...   \n",
       "473   702448909180870656  Martin Vetterli will be the next president of ...   \n",
       "978   583714121436307456  EPFL just hosted the press conference on the h...   \n",
       "396   715833683022888960  Mini black holes created at EPFL allow dog to ...   \n",
       "432   707559328673357824  EPFL &amp; @ICRC launch the Humanitarian Tech ...   \n",
       "\n",
       "                    time  likes  shares  \n",
       "1026 2015-03-02 11:10:29     33      45  \n",
       "473  2016-02-24 11:04:05     29      54  \n",
       "978  2015-04-02 19:34:26     25      31  \n",
       "396  2016-04-01 09:30:24     22      21  \n",
       "432  2016-03-09 13:31:04     21      41  "
      ]
     },
     "metadata": {},
     "output_type": "display_data"
    }
   ],
   "source": [
    "display(fb.sort_values(by='likes', ascending=False)[:5])\n",
    "display(tw.sort_values(by='likes', ascending=False)[:5])"
   ]
  },
  {
   "cell_type": "markdown",
   "metadata": {},
   "source": [
    "## 5.3 Engagement: likes, comments, shares"
   ]
  },
  {
   "cell_type": "code",
   "execution_count": 19,
   "metadata": {
    "collapsed": false
   },
   "outputs": [
    {
     "data": {
      "text/html": [
       "<div>\n",
       "<table border=\"1\" class=\"dataframe\">\n",
       "  <thead>\n",
       "    <tr style=\"text-align: right;\">\n",
       "      <th></th>\n",
       "      <th>likes</th>\n",
       "      <th>comments</th>\n",
       "      <th>likes</th>\n",
       "      <th>shares</th>\n",
       "    </tr>\n",
       "  </thead>\n",
       "  <tbody>\n",
       "    <tr>\n",
       "      <th>count</th>\n",
       "      <td>816.000000</td>\n",
       "      <td>816.000000</td>\n",
       "      <td>3211.000000</td>\n",
       "      <td>3211.000000</td>\n",
       "    </tr>\n",
       "    <tr>\n",
       "      <th>mean</th>\n",
       "      <td>103.524510</td>\n",
       "      <td>3.088235</td>\n",
       "      <td>0.968857</td>\n",
       "      <td>5.792588</td>\n",
       "    </tr>\n",
       "    <tr>\n",
       "      <th>std</th>\n",
       "      <td>166.370691</td>\n",
       "      <td>5.561662</td>\n",
       "      <td>2.415996</td>\n",
       "      <td>112.030662</td>\n",
       "    </tr>\n",
       "    <tr>\n",
       "      <th>min</th>\n",
       "      <td>0.000000</td>\n",
       "      <td>0.000000</td>\n",
       "      <td>0.000000</td>\n",
       "      <td>0.000000</td>\n",
       "    </tr>\n",
       "    <tr>\n",
       "      <th>25%</th>\n",
       "      <td>20.000000</td>\n",
       "      <td>0.000000</td>\n",
       "      <td>0.000000</td>\n",
       "      <td>0.000000</td>\n",
       "    </tr>\n",
       "    <tr>\n",
       "      <th>50%</th>\n",
       "      <td>42.000000</td>\n",
       "      <td>1.000000</td>\n",
       "      <td>0.000000</td>\n",
       "      <td>1.000000</td>\n",
       "    </tr>\n",
       "    <tr>\n",
       "      <th>75%</th>\n",
       "      <td>113.250000</td>\n",
       "      <td>3.250000</td>\n",
       "      <td>1.000000</td>\n",
       "      <td>3.000000</td>\n",
       "    </tr>\n",
       "    <tr>\n",
       "      <th>max</th>\n",
       "      <td>1608.000000</td>\n",
       "      <td>52.000000</td>\n",
       "      <td>33.000000</td>\n",
       "      <td>6063.000000</td>\n",
       "    </tr>\n",
       "  </tbody>\n",
       "</table>\n",
       "</div>"
      ],
      "text/plain": [
       "             likes    comments        likes       shares\n",
       "count   816.000000  816.000000  3211.000000  3211.000000\n",
       "mean    103.524510    3.088235     0.968857     5.792588\n",
       "std     166.370691    5.561662     2.415996   112.030662\n",
       "min       0.000000    0.000000     0.000000     0.000000\n",
       "25%      20.000000    0.000000     0.000000     0.000000\n",
       "50%      42.000000    1.000000     0.000000     1.000000\n",
       "75%     113.250000    3.250000     1.000000     3.000000\n",
       "max    1608.000000   52.000000    33.000000  6063.000000"
      ]
     },
     "execution_count": 19,
     "metadata": {},
     "output_type": "execute_result"
    }
   ],
   "source": [
    "pd.concat([fb.describe(), tw.loc[:,'likes':'shares'].describe()], axis=1)"
   ]
  },
  {
   "cell_type": "code",
   "execution_count": 20,
   "metadata": {
    "collapsed": false
   },
   "outputs": [
    {
     "data": {
      "image/png": "[encoded data removed]",
      "text/plain": [
       "<matplotlib.figure.Figure at 0x7f6deafa8f98>"
      ]
     },
     "metadata": {},
     "output_type": "display_data"
    }
   ],
   "source": [
    "fig, axs = plt.subplots(1, 4, figsize=(15, 5))\n",
    "fb.likes.plot(kind='box', ax=axs[0]);\n",
    "fb.comments.plot(kind='box', ax=axs[1]);\n",
    "tw.likes.plot(kind='box', ax=axs[2]);\n",
    "tw.shares.plot(kind='box', ax=axs[3]);"
   ]
  },
  {
   "cell_type": "code",
   "execution_count": 21,
   "metadata": {
    "collapsed": false
   },
   "outputs": [
    {
     "data": {
      "image/png": "[encoded data removed]",
      "text/plain": [
       "<matplotlib.figure.Figure at 0x7f6debb6b358>"
      ]
     },
     "metadata": {},
     "output_type": "display_data"
    }
   ],
   "source": [
    "fb.hist(bins=20, log=True, figsize=(15, 5));"
   ]
  },
  {
   "cell_type": "code",
   "execution_count": 22,
   "metadata": {
    "collapsed": false
   },
   "outputs": [
    {
     "data": {
      "image/png": "[encoded data removed]",
      "text/plain": [
       "<matplotlib.figure.Figure at 0x7f6deb13c4a8>"
      ]
     },
     "metadata": {},
     "output_type": "display_data"
    }
   ],
   "source": [
    "fig, axs = plt.subplots(1, 2, figsize=(15, 5))\n",
    "tw.loc[:,'likes'].hist(bins=20, log=True, ax=axs[0]);\n",
    "tw.loc[tw.shares < 200, 'shares'].hist(bins=20, log=True, ax=axs[1]);"
   ]
  },
  {
   "cell_type": "markdown",
   "metadata": {},
   "source": [
    "## 5.4 Text length\n",
    "\n",
    "There is a stricking difference here:\n",
    "1. On Twitter, almost all tweets reach the 140 characters limit.\n",
    "2. The distribution is more Gaussian on Facebook."
   ]
  },
  {
   "cell_type": "code",
   "execution_count": 23,
   "metadata": {
    "collapsed": false
   },
   "outputs": [
    {
     "data": {
      "image/png": "[encoded data removed]",
      "text/plain": [
       "<matplotlib.figure.Figure at 0x7f6deaf849e8>"
      ]
     },
     "metadata": {},
     "output_type": "display_data"
    },
    {
     "data": {
      "image/png": "[encoded data removed]",
      "text/plain": [
       "<matplotlib.figure.Figure at 0x7f6deaf84898>"
      ]
     },
     "metadata": {},
     "output_type": "display_data"
    }
   ],
   "source": [
    "def text_length(texts):\n",
    "    lengths = np.empty(len(texts), dtype=int)\n",
    "    for i, text in enumerate(texts):\n",
    "        lengths[i] = len(text)\n",
    "    plt.figure(figsize=(15, 5))\n",
    "    prop = lengths.min(), '{:.2f}'.format(lengths.mean()), lengths.max()\n",
    "    plt.title('min = {}, mean={}, max = {}'.format(*prop))\n",
    "    plt.hist(lengths, bins=20)\n",
    "\n",
    "text_length(tw.text)\n",
    "text_length(fb.text)"
   ]
  },
  {
   "cell_type": "markdown",
   "metadata": {},
   "source": [
    "## 5.5 Posting time\n",
    "\n",
    "We can clearly observe the office hours."
   ]
  },
  {
   "cell_type": "code",
   "execution_count": 24,
   "metadata": {
    "collapsed": false
   },
   "outputs": [
    {
     "data": {
      "image/png": "[encoded data removed]",
      "text/plain": [
       "<matplotlib.figure.Figure at 0x7f6deaf6d550>"
      ]
     },
     "metadata": {},
     "output_type": "display_data"
    }
   ],
   "source": [
    "fb.id.groupby(fb.time.dt.hour).count().plot(kind='bar', alpha=0.4, color='y', figsize=(15,5));\n",
    "tw.id.groupby(tw.time.dt.hour).count().plot(kind='bar', alpha=0.4, color='g', figsize=(15,5));"
   ]
  },
  {
   "cell_type": "markdown",
   "metadata": {},
   "source": [
    "Let's look if the time of posting influence the number of likes. Do you see a peak at 5am ? Do you really think we should post at 5am ? What's going on here ?"
   ]
  },
  {
   "cell_type": "code",
   "execution_count": 25,
   "metadata": {
    "collapsed": false
   },
   "outputs": [
    {
     "data": {
      "image/png": "[encoded data removed]",
      "text/plain": [
       "<matplotlib.figure.Figure at 0x7f6deb41e588>"
      ]
     },
     "metadata": {},
     "output_type": "display_data"
    },
    {
     "data": {
      "image/png": "[encoded data removed]",
      "text/plain": [
       "<matplotlib.figure.Figure at 0x7f6deb11bf60>"
      ]
     },
     "metadata": {},
     "output_type": "display_data"
    }
   ],
   "source": [
    "fb.likes.groupby(fb.time.dt.hour).mean().plot(kind='bar', figsize=(15,5));\n",
    "plt.figure()\n",
    "tw.likes.groupby(tw.time.dt.hour).mean().plot(kind='bar', figsize=(15,5));"
   ]
  }
 ],
 "metadata": {
  "kernelspec": {
   "display_name": "Python 3",
   "language": "python",
   "name": "python3"
  },
  "language_info": {
   "codemirror_mode": {
    "name": "ipython",
    "version": 3
   },
   "file_extension": ".py",
   "mimetype": "text/x-python",
   "name": "python",
   "nbconvert_exporter": "python",
   "pygments_lexer": "ipython3",
   "version": "3.5.2"
  }
 },
 "nbformat": 4,
 "nbformat_minor": 0
}
